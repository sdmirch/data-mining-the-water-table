{
 "cells": [
  {
   "cell_type": "code",
   "execution_count": 1,
   "metadata": {
    "collapsed": true
   },
   "outputs": [],
   "source": [
    "import numpy as np\n",
    "import pandas as pd\n",
    "import matplotlib.pyplot as plt\n",
    "\n",
    "plt.style.use('ggplot')\n",
    "%matplotlib inline"
   ]
  },
  {
   "cell_type": "code",
   "execution_count": 7,
   "metadata": {
    "collapsed": true
   },
   "outputs": [],
   "source": [
    "df = pd.read_csv('data/training_vals.csv')"
   ]
  },
  {
   "cell_type": "code",
   "execution_count": 22,
   "metadata": {
    "collapsed": true
   },
   "outputs": [],
   "source": [
    "df_test = pd.read_csv('data/test_vals.csv')"
   ]
  },
  {
   "cell_type": "code",
   "execution_count": 25,
   "metadata": {
    "collapsed": true
   },
   "outputs": [],
   "source": [
    "df_labels = pd.read_csv('data/training_labels.csv')"
   ]
  },
  {
   "cell_type": "code",
   "execution_count": 8,
   "metadata": {
    "collapsed": false,
    "scrolled": true
   },
   "outputs": [
    {
     "data": {
      "text/plain": [
       "Index([u'id', u'amount_tsh', u'date_recorded', u'funder', u'gps_height',\n",
       "       u'installer', u'longitude', u'latitude', u'wpt_name', u'num_private',\n",
       "       u'basin', u'subvillage', u'region', u'region_code', u'district_code',\n",
       "       u'lga', u'ward', u'population', u'public_meeting', u'recorded_by',\n",
       "       u'scheme_management', u'scheme_name', u'permit', u'construction_year',\n",
       "       u'extraction_type', u'extraction_type_group', u'extraction_type_class',\n",
       "       u'management', u'management_group', u'payment', u'payment_type',\n",
       "       u'water_quality', u'quality_group', u'quantity', u'quantity_group',\n",
       "       u'source', u'source_type', u'source_class', u'waterpoint_type',\n",
       "       u'waterpoint_type_group'],\n",
       "      dtype='object')"
      ]
     },
     "execution_count": 8,
     "metadata": {},
     "output_type": "execute_result"
    }
   ],
   "source": [
    "df.columns"
   ]
  },
  {
   "cell_type": "code",
   "execution_count": 23,
   "metadata": {
    "collapsed": false,
    "scrolled": true
   },
   "outputs": [
    {
     "data": {
      "text/plain": [
       "array([ True,  True,  True,  True,  True,  True,  True,  True,  True,\n",
       "        True,  True,  True,  True,  True,  True,  True,  True,  True,\n",
       "        True,  True,  True,  True,  True,  True,  True,  True,  True,\n",
       "        True,  True,  True,  True,  True,  True,  True,  True,  True,\n",
       "        True,  True,  True,  True], dtype=bool)"
      ]
     },
     "execution_count": 23,
     "metadata": {},
     "output_type": "execute_result"
    }
   ],
   "source": [
    "df.columns == df_test.columns"
   ]
  },
  {
   "cell_type": "code",
   "execution_count": 9,
   "metadata": {
    "collapsed": false,
    "scrolled": true
   },
   "outputs": [
    {
     "data": {
      "text/html": [
       "<div>\n",
       "<style>\n",
       "    .dataframe thead tr:only-child th {\n",
       "        text-align: right;\n",
       "    }\n",
       "\n",
       "    .dataframe thead th {\n",
       "        text-align: left;\n",
       "    }\n",
       "\n",
       "    .dataframe tbody tr th {\n",
       "        vertical-align: top;\n",
       "    }\n",
       "</style>\n",
       "<table border=\"1\" class=\"dataframe\">\n",
       "  <thead>\n",
       "    <tr style=\"text-align: right;\">\n",
       "      <th></th>\n",
       "      <th>id</th>\n",
       "      <th>amount_tsh</th>\n",
       "      <th>gps_height</th>\n",
       "      <th>longitude</th>\n",
       "      <th>latitude</th>\n",
       "      <th>num_private</th>\n",
       "      <th>region_code</th>\n",
       "      <th>district_code</th>\n",
       "      <th>population</th>\n",
       "      <th>construction_year</th>\n",
       "    </tr>\n",
       "  </thead>\n",
       "  <tbody>\n",
       "    <tr>\n",
       "      <th>count</th>\n",
       "      <td>59400.000000</td>\n",
       "      <td>59400.000000</td>\n",
       "      <td>59400.000000</td>\n",
       "      <td>59400.000000</td>\n",
       "      <td>5.940000e+04</td>\n",
       "      <td>59400.000000</td>\n",
       "      <td>59400.000000</td>\n",
       "      <td>59400.000000</td>\n",
       "      <td>59400.000000</td>\n",
       "      <td>59400.000000</td>\n",
       "    </tr>\n",
       "    <tr>\n",
       "      <th>mean</th>\n",
       "      <td>37115.131768</td>\n",
       "      <td>317.650385</td>\n",
       "      <td>668.297239</td>\n",
       "      <td>34.077427</td>\n",
       "      <td>-5.706033e+00</td>\n",
       "      <td>0.474141</td>\n",
       "      <td>15.297003</td>\n",
       "      <td>5.629747</td>\n",
       "      <td>179.909983</td>\n",
       "      <td>1300.652475</td>\n",
       "    </tr>\n",
       "    <tr>\n",
       "      <th>std</th>\n",
       "      <td>21453.128371</td>\n",
       "      <td>2997.574558</td>\n",
       "      <td>693.116350</td>\n",
       "      <td>6.567432</td>\n",
       "      <td>2.946019e+00</td>\n",
       "      <td>12.236230</td>\n",
       "      <td>17.587406</td>\n",
       "      <td>9.633649</td>\n",
       "      <td>471.482176</td>\n",
       "      <td>951.620547</td>\n",
       "    </tr>\n",
       "    <tr>\n",
       "      <th>min</th>\n",
       "      <td>0.000000</td>\n",
       "      <td>0.000000</td>\n",
       "      <td>-90.000000</td>\n",
       "      <td>0.000000</td>\n",
       "      <td>-1.164944e+01</td>\n",
       "      <td>0.000000</td>\n",
       "      <td>1.000000</td>\n",
       "      <td>0.000000</td>\n",
       "      <td>0.000000</td>\n",
       "      <td>0.000000</td>\n",
       "    </tr>\n",
       "    <tr>\n",
       "      <th>25%</th>\n",
       "      <td>18519.750000</td>\n",
       "      <td>0.000000</td>\n",
       "      <td>0.000000</td>\n",
       "      <td>33.090347</td>\n",
       "      <td>-8.540621e+00</td>\n",
       "      <td>0.000000</td>\n",
       "      <td>5.000000</td>\n",
       "      <td>2.000000</td>\n",
       "      <td>0.000000</td>\n",
       "      <td>0.000000</td>\n",
       "    </tr>\n",
       "    <tr>\n",
       "      <th>50%</th>\n",
       "      <td>37061.500000</td>\n",
       "      <td>0.000000</td>\n",
       "      <td>369.000000</td>\n",
       "      <td>34.908743</td>\n",
       "      <td>-5.021597e+00</td>\n",
       "      <td>0.000000</td>\n",
       "      <td>12.000000</td>\n",
       "      <td>3.000000</td>\n",
       "      <td>25.000000</td>\n",
       "      <td>1986.000000</td>\n",
       "    </tr>\n",
       "    <tr>\n",
       "      <th>75%</th>\n",
       "      <td>55656.500000</td>\n",
       "      <td>20.000000</td>\n",
       "      <td>1319.250000</td>\n",
       "      <td>37.178387</td>\n",
       "      <td>-3.326156e+00</td>\n",
       "      <td>0.000000</td>\n",
       "      <td>17.000000</td>\n",
       "      <td>5.000000</td>\n",
       "      <td>215.000000</td>\n",
       "      <td>2004.000000</td>\n",
       "    </tr>\n",
       "    <tr>\n",
       "      <th>max</th>\n",
       "      <td>74247.000000</td>\n",
       "      <td>350000.000000</td>\n",
       "      <td>2770.000000</td>\n",
       "      <td>40.345193</td>\n",
       "      <td>-2.000000e-08</td>\n",
       "      <td>1776.000000</td>\n",
       "      <td>99.000000</td>\n",
       "      <td>80.000000</td>\n",
       "      <td>30500.000000</td>\n",
       "      <td>2013.000000</td>\n",
       "    </tr>\n",
       "  </tbody>\n",
       "</table>\n",
       "</div>"
      ],
      "text/plain": [
       "                 id     amount_tsh    gps_height     longitude      latitude  \\\n",
       "count  59400.000000   59400.000000  59400.000000  59400.000000  5.940000e+04   \n",
       "mean   37115.131768     317.650385    668.297239     34.077427 -5.706033e+00   \n",
       "std    21453.128371    2997.574558    693.116350      6.567432  2.946019e+00   \n",
       "min        0.000000       0.000000    -90.000000      0.000000 -1.164944e+01   \n",
       "25%    18519.750000       0.000000      0.000000     33.090347 -8.540621e+00   \n",
       "50%    37061.500000       0.000000    369.000000     34.908743 -5.021597e+00   \n",
       "75%    55656.500000      20.000000   1319.250000     37.178387 -3.326156e+00   \n",
       "max    74247.000000  350000.000000   2770.000000     40.345193 -2.000000e-08   \n",
       "\n",
       "        num_private   region_code  district_code    population  \\\n",
       "count  59400.000000  59400.000000   59400.000000  59400.000000   \n",
       "mean       0.474141     15.297003       5.629747    179.909983   \n",
       "std       12.236230     17.587406       9.633649    471.482176   \n",
       "min        0.000000      1.000000       0.000000      0.000000   \n",
       "25%        0.000000      5.000000       2.000000      0.000000   \n",
       "50%        0.000000     12.000000       3.000000     25.000000   \n",
       "75%        0.000000     17.000000       5.000000    215.000000   \n",
       "max     1776.000000     99.000000      80.000000  30500.000000   \n",
       "\n",
       "       construction_year  \n",
       "count       59400.000000  \n",
       "mean         1300.652475  \n",
       "std           951.620547  \n",
       "min             0.000000  \n",
       "25%             0.000000  \n",
       "50%          1986.000000  \n",
       "75%          2004.000000  \n",
       "max          2013.000000  "
      ]
     },
     "execution_count": 9,
     "metadata": {},
     "output_type": "execute_result"
    }
   ],
   "source": [
    "df.describe()"
   ]
  },
  {
   "cell_type": "code",
   "execution_count": 10,
   "metadata": {
    "collapsed": false
   },
   "outputs": [
    {
     "name": "stdout",
     "output_type": "stream",
     "text": [
      "<class 'pandas.core.frame.DataFrame'>\n",
      "RangeIndex: 59400 entries, 0 to 59399\n",
      "Data columns (total 40 columns):\n",
      "id                       59400 non-null int64\n",
      "amount_tsh               59400 non-null float64\n",
      "date_recorded            59400 non-null object\n",
      "funder                   55765 non-null object\n",
      "gps_height               59400 non-null int64\n",
      "installer                55745 non-null object\n",
      "longitude                59400 non-null float64\n",
      "latitude                 59400 non-null float64\n",
      "wpt_name                 59400 non-null object\n",
      "num_private              59400 non-null int64\n",
      "basin                    59400 non-null object\n",
      "subvillage               59029 non-null object\n",
      "region                   59400 non-null object\n",
      "region_code              59400 non-null int64\n",
      "district_code            59400 non-null int64\n",
      "lga                      59400 non-null object\n",
      "ward                     59400 non-null object\n",
      "population               59400 non-null int64\n",
      "public_meeting           56066 non-null object\n",
      "recorded_by              59400 non-null object\n",
      "scheme_management        55523 non-null object\n",
      "scheme_name              31234 non-null object\n",
      "permit                   56344 non-null object\n",
      "construction_year        59400 non-null int64\n",
      "extraction_type          59400 non-null object\n",
      "extraction_type_group    59400 non-null object\n",
      "extraction_type_class    59400 non-null object\n",
      "management               59400 non-null object\n",
      "management_group         59400 non-null object\n",
      "payment                  59400 non-null object\n",
      "payment_type             59400 non-null object\n",
      "water_quality            59400 non-null object\n",
      "quality_group            59400 non-null object\n",
      "quantity                 59400 non-null object\n",
      "quantity_group           59400 non-null object\n",
      "source                   59400 non-null object\n",
      "source_type              59400 non-null object\n",
      "source_class             59400 non-null object\n",
      "waterpoint_type          59400 non-null object\n",
      "waterpoint_type_group    59400 non-null object\n",
      "dtypes: float64(3), int64(7), object(30)\n",
      "memory usage: 18.1+ MB\n"
     ]
    }
   ],
   "source": [
    "df.info()"
   ]
  },
  {
   "cell_type": "code",
   "execution_count": 24,
   "metadata": {
    "collapsed": false
   },
   "outputs": [
    {
     "name": "stdout",
     "output_type": "stream",
     "text": [
      "('amount_tsh', array([  6.00000000e+03,   0.00000000e+00,   2.50000000e+01,\n",
      "         2.00000000e+01,   2.00000000e+02,   5.00000000e+02,\n",
      "         5.00000000e+01,   4.00000000e+03,   1.50000000e+03,\n",
      "         6.00000000e+00,   2.50000000e+02,   1.00000000e+01,\n",
      "         1.00000000e+03,   1.00000000e+02,   3.00000000e+01,\n",
      "         2.00000000e+03,   4.00000000e+02,   1.20000000e+03,\n",
      "         4.00000000e+01,   3.00000000e+02,   2.50000000e+04,\n",
      "         7.50000000e+02,   5.00000000e+03,   6.00000000e+02,\n",
      "         7.20000000e+03,   2.40000000e+03,   5.00000000e+00,\n",
      "         3.60000000e+03,   4.50000000e+02,   4.00000000e+04,\n",
      "         1.20000000e+04,   3.00000000e+03,   7.00000000e+00,\n",
      "         2.00000000e+04,   2.80000000e+03,   2.20000000e+03,\n",
      "         7.00000000e+01,   5.50000000e+03,   1.00000000e+04,\n",
      "         2.50000000e+03,   6.50000000e+03,   5.50000000e+02,\n",
      "         3.30000000e+01,   8.00000000e+03,   4.70000000e+03,\n",
      "         7.00000000e+03,   1.40000000e+04,   1.30000000e+03,\n",
      "         1.00000000e+05,   7.00000000e+02,   1.00000000e+00,\n",
      "         6.00000000e+01,   3.50000000e+02,   2.00000000e-01,\n",
      "         3.50000000e+01,   3.06000000e+02,   8.50000000e+03,\n",
      "         1.17000000e+05,   3.50000000e+03,   5.20000000e+02,\n",
      "         1.50000000e+01,   6.30000000e+03,   9.00000000e+03,\n",
      "         1.50000000e+02,   1.20000000e+05,   1.38000000e+05,\n",
      "         3.50000000e+05,   4.50000000e+03,   1.30000000e+04,\n",
      "         4.50000000e+04,   2.00000000e+00,   1.50000000e+04,\n",
      "         1.10000000e+04,   5.00000000e+04,   7.50000000e+03,\n",
      "         1.63000000e+04,   8.00000000e+02,   1.60000000e+04,\n",
      "         3.00000000e+04,   5.30000000e+01,   5.40000000e+03,\n",
      "         7.00000000e+04,   2.50000000e+05,   2.00000000e+05,\n",
      "         2.60000000e+04,   1.80000000e+04,   2.60000000e+01,\n",
      "         5.90000000e+02,   9.00000000e+02,   9.00000000e+00,\n",
      "         1.40000000e+03,   1.70000000e+05,   2.20000000e+02,\n",
      "         3.80000000e+04,   2.50000000e-01,   1.20000000e+01,\n",
      "         6.00000000e+04,   5.90000000e+01]))\n",
      "\n",
      "\n",
      "('num_private', array([   0,   39,    5,   45,    6,    3,  698,   32,   15,    7,   25,\n",
      "        102,    1,   93,   14,   34,  120,   17,  213,   47,    8,   41,\n",
      "         80,  141,   20,   35,  131,    4,   22,   11,   87,   61,   65,\n",
      "        136,    2,  180,   38,   62,    9,   16,   23,   42,   24,   12,\n",
      "        668,  672,   58,  150,  280,  160,   50, 1776,   30,   27,   10,\n",
      "         94,   26,  450,  240,  755,   60,  111,  300,   55, 1402]))\n",
      "\n",
      "\n",
      "('basin', array(['Lake Nyasa', 'Lake Victoria', 'Pangani', 'Ruvuma / Southern Coast',\n",
      "       'Internal', 'Lake Tanganyika', 'Wami / Ruvu', 'Rufiji', 'Lake Rukwa'], dtype=object))\n",
      "\n",
      "\n",
      "('region', array(['Iringa', 'Mara', 'Manyara', 'Mtwara', 'Kagera', 'Tanga',\n",
      "       'Shinyanga', 'Tabora', 'Pwani', 'Ruvuma', 'Kilimanjaro', 'Rukwa',\n",
      "       'Mwanza', 'Kigoma', 'Lindi', 'Dodoma', 'Arusha', 'Mbeya', 'Singida',\n",
      "       'Morogoro', 'Dar es Salaam'], dtype=object))\n",
      "\n",
      "\n",
      "('region_code', array([11, 20, 21, 90, 18,  4, 17, 14, 60, 10,  3, 15, 19, 16, 80,  1,  6,\n",
      "        2, 12, 13,  5,  7, 99, 24,  9,  8, 40]))\n",
      "\n",
      "\n",
      "('district_code', array([ 5,  2,  4, 63,  1,  8,  3,  6, 43,  7, 23, 33, 53, 62, 60, 30, 13,\n",
      "        0, 80, 67]))\n",
      "\n",
      "\n",
      "('public_meeting', array([True, nan, False], dtype=object))\n",
      "\n",
      "\n",
      "('recorded_by', array(['GeoData Consultants Ltd'], dtype=object))\n",
      "\n",
      "\n",
      "('scheme_management', array(['VWC', 'Other', nan, 'Private operator', 'WUG', 'Water Board',\n",
      "       'WUA', 'Water authority', 'Company', 'Parastatal', 'Trust', 'SWC',\n",
      "       'None'], dtype=object))\n",
      "\n",
      "\n",
      "('permit', array([False, True, nan], dtype=object))\n",
      "\n",
      "\n",
      "('construction_year', array([1999, 2010, 2009, 1986,    0, 2011, 1987, 1991, 1978, 1992, 2008,\n",
      "       1974, 2000, 2002, 2004, 1972, 2003, 1980, 2007, 1973, 1985, 1970,\n",
      "       1995, 2006, 1962, 2005, 1997, 2012, 1996, 1977, 1983, 1984, 1990,\n",
      "       1982, 1976, 1988, 1989, 1975, 1960, 1961, 1998, 1963, 1971, 1994,\n",
      "       1968, 1993, 2001, 1979, 1967, 2013, 1969, 1981, 1964, 1966, 1965]))\n",
      "\n",
      "\n",
      "('extraction_type', array(['gravity', 'submersible', 'swn 80', 'nira/tanira', 'india mark ii',\n",
      "       'other', 'ksb', 'mono', 'windmill', 'afridev', 'other - rope pump',\n",
      "       'india mark iii', 'other - swn 81', 'other - play pump', 'cemo',\n",
      "       'climax', 'walimi', 'other - mkulima/shinyanga'], dtype=object))\n",
      "\n",
      "\n",
      "('extraction_type_group', array(['gravity', 'submersible', 'swn 80', 'nira/tanira', 'india mark ii',\n",
      "       'other', 'mono', 'wind-powered', 'afridev', 'rope pump',\n",
      "       'india mark iii', 'other handpump', 'other motorpump'], dtype=object))\n",
      "\n",
      "\n",
      "('extraction_type_class', array(['gravity', 'submersible', 'handpump', 'other', 'motorpump',\n",
      "       'wind-powered', 'rope pump'], dtype=object))\n",
      "\n",
      "\n",
      "('management', array(['vwc', 'wug', 'other', 'private operator', 'water board', 'wua',\n",
      "       'company', 'water authority', 'parastatal', 'unknown',\n",
      "       'other - school', 'trust'], dtype=object))\n",
      "\n",
      "\n",
      "('management_group', array(['user-group', 'other', 'commercial', 'parastatal', 'unknown'], dtype=object))\n",
      "\n",
      "\n",
      "('payment', array(['pay annually', 'never pay', 'pay per bucket', 'unknown',\n",
      "       'pay when scheme fails', 'other', 'pay monthly'], dtype=object))\n",
      "\n",
      "\n",
      "('payment_type', array(['annually', 'never pay', 'per bucket', 'unknown', 'on failure',\n",
      "       'other', 'monthly'], dtype=object))\n",
      "\n",
      "\n",
      "('water_quality', array(['soft', 'salty', 'milky', 'unknown', 'fluoride', 'coloured',\n",
      "       'salty abandoned', 'fluoride abandoned'], dtype=object))\n",
      "\n",
      "\n",
      "('quality_group', array(['good', 'salty', 'milky', 'unknown', 'fluoride', 'colored'], dtype=object))\n",
      "\n",
      "\n",
      "('quantity', array(['enough', 'insufficient', 'dry', 'seasonal', 'unknown'], dtype=object))\n",
      "\n",
      "\n",
      "('quantity_group', array(['enough', 'insufficient', 'dry', 'seasonal', 'unknown'], dtype=object))\n",
      "\n",
      "\n",
      "('source', array(['spring', 'rainwater harvesting', 'dam', 'machine dbh', 'other',\n",
      "       'shallow well', 'river', 'hand dtw', 'lake', 'unknown'], dtype=object))\n",
      "\n",
      "\n",
      "('source_type', array(['spring', 'rainwater harvesting', 'dam', 'borehole', 'other',\n",
      "       'shallow well', 'river/lake'], dtype=object))\n",
      "\n",
      "\n",
      "('source_class', array(['groundwater', 'surface', 'unknown'], dtype=object))\n",
      "\n",
      "\n",
      "('waterpoint_type', array(['communal standpipe', 'communal standpipe multiple', 'hand pump',\n",
      "       'other', 'improved spring', 'cattle trough', 'dam'], dtype=object))\n",
      "\n",
      "\n",
      "('waterpoint_type_group', array(['communal standpipe', 'hand pump', 'other', 'improved spring',\n",
      "       'cattle trough', 'dam'], dtype=object))\n",
      "\n",
      "\n"
     ]
    }
   ],
   "source": [
    "for col in df.columns:\n",
    "    if len(df[str(col)].unique())<100:\n",
    "        print(col, df[str(col)].unique())\n",
    "        print '\\n'"
   ]
  },
  {
   "cell_type": "code",
   "execution_count": 21,
   "metadata": {
    "collapsed": false
   },
   "outputs": [
    {
     "data": {
      "text/plain": [
       "array(['GeoData Consultants Ltd'], dtype=object)"
      ]
     },
     "execution_count": 21,
     "metadata": {},
     "output_type": "execute_result"
    }
   ],
   "source": [
    "df.recorded_by.unique()"
   ]
  },
  {
   "cell_type": "code",
   "execution_count": 61,
   "metadata": {
    "collapsed": false,
    "scrolled": false
   },
   "outputs": [],
   "source": [
    "color = np.zeros(len(df_labels))\n",
    "\n",
    "for i,lab in enumerate(df_labels.status_group):\n",
    "    if lab == 'functional':\n",
    "        color[i] = 1\n",
    "    elif lab == 'non functional':\n",
    "        color[i] = 2\n",
    "    elif lab == 'functional needs repair':\n",
    "        color[i] = 3"
   ]
  },
  {
   "cell_type": "code",
   "execution_count": 62,
   "metadata": {
    "collapsed": true
   },
   "outputs": [],
   "source": [
    "color2 = np.zeros(len(df_labels))\n",
    "\n",
    "classes = df_labels.status_group.unique()\n",
    "for i,lab in enumerate(df_labels.status_group):\n",
    "    for j,cla in enumerate(classes):\n",
    "        if lab == cla:\n",
    "            color2[i] = j+1"
   ]
  },
  {
   "cell_type": "code",
   "execution_count": 64,
   "metadata": {
    "collapsed": false
   },
   "outputs": [
    {
     "data": {
      "text/plain": [
       "59400"
      ]
     },
     "execution_count": 64,
     "metadata": {},
     "output_type": "execute_result"
    }
   ],
   "source": [
    "sum(color == color2)"
   ]
  },
  {
   "cell_type": "code",
   "execution_count": 49,
   "metadata": {
    "collapsed": false
   },
   "outputs": [
    {
     "data": {
      "text/plain": [
       "<matplotlib.legend.Legend at 0x123e90650>"
      ]
     },
     "execution_count": 49,
     "metadata": {},
     "output_type": "execute_result"
    },
    {
     "data": {
      "image/png": "[encoded data removed]",
      "text/plain": [
       "<matplotlib.figure.Figure at 0x123e98350>"
      ]
     },
     "metadata": {},
     "output_type": "display_data"
    }
   ],
   "source": [
    "fig, ax = plt.subplots(1,1,figsize=(12,8))\n",
    "\n",
    "ax.scatter(df.region_code, df.district_code, c=color)\n",
    "ax.set_xlabel(\"Region Code\")\n",
    "ax.set_ylabel(\"District Code\")\n",
    "ax.set_title(\"District Code v. Region Code\")\n",
    "ax.legend()\n"
   ]
  },
  {
   "cell_type": "code",
   "execution_count": 35,
   "metadata": {
    "collapsed": false
   },
   "outputs": [
    {
     "data": {
      "text/plain": [
       "True"
      ]
     },
     "execution_count": 35,
     "metadata": {},
     "output_type": "execute_result"
    }
   ],
   "source": [
    "len(df.region_code) == len(color)"
   ]
  },
  {
   "cell_type": "code",
   "execution_count": null,
   "metadata": {
    "collapsed": true
   },
   "outputs": [],
   "source": []
  }
 ],
 "metadata": {
  "kernelspec": {
   "display_name": "Python 2",
   "language": "python",
   "name": "python2"
  },
  "language_info": {
   "codemirror_mode": {
    "name": "ipython",
    "version": 2
   },
   "file_extension": ".py",
   "mimetype": "text/x-python",
   "name": "python",
   "nbconvert_exporter": "python",
   "pygments_lexer": "ipython2",
   "version": "2.7.13"
  }
 },
 "nbformat": 4,
 "nbformat_minor": 2
}
